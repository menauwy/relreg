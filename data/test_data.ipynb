{
 "cells": [
  {
   "cell_type": "code",
   "execution_count": 5,
   "metadata": {},
   "outputs": [
    {
     "data": {
      "text/plain": [
       "5000"
      ]
     },
     "execution_count": 5,
     "metadata": {},
     "output_type": "execute_result"
    }
   ],
   "source": [
    "path = '/home/wangym/workspace/query-focused-sum/data/train.jsonl'\n",
    "import json\n",
    "data = []\n",
    "with open(path, 'r') as f:\n",
    "    for line in f:\n",
    "        data.append(json.loads(line))\n",
    "len(data)"
   ]
  },
  {
   "cell_type": "code",
   "execution_count": 3,
   "metadata": {},
   "outputs": [
    {
     "data": {
      "text/plain": [
       "5358"
      ]
     },
     "execution_count": 3,
     "metadata": {},
     "output_type": "execute_result"
    }
   ],
   "source": [
    "import json\n",
    "from transformers import T5Tokenizer\n",
    "\n",
    "tokenizer = T5Tokenizer.from_pretrained('t5-base')\n",
    "path = '/home/wangym/data1/dataset/q2id/Q2ID_data/all_Q2ID_data.jsonl'\n",
    "data = []\n",
    "with open(path, 'r') as f:\n",
    "    for l in f:\n",
    "        record = json.loads(l)\n",
    "        data.append(record)\n",
    "len(data)"
   ]
  },
  {
   "cell_type": "code",
   "execution_count": 21,
   "metadata": {},
   "outputs": [
    {
     "data": {
      "text/plain": [
       "1224.6855169839491"
      ]
     },
     "execution_count": 21,
     "metadata": {},
     "output_type": "execute_result"
    }
   ],
   "source": [
    "# average token numbers of all pos for one query\n",
    "l = []\n",
    "for record in data:\n",
    "    n = 0\n",
    "    if len(record['pos']) == 0:\n",
    "        n = 0\n",
    "    elif len(record['pos']) == 1:\n",
    "        n = len(tokenizer.encode(record['pos'][0]))\n",
    "    else:\n",
    "        for p in record['pos']:\n",
    "            n += len(tokenizer.encode(p))\n",
    "    l.append(n)\n",
    "\n",
    "import numpy as np\n",
    "# sum l and get the average\n",
    "np.sum(l) / len(l)\n"
   ]
  },
  {
   "cell_type": "code",
   "execution_count": 33,
   "metadata": {},
   "outputs": [
    {
     "data": {
      "text/plain": [
       "24.270810003732738"
      ]
     },
     "execution_count": 33,
     "metadata": {},
     "output_type": "execute_result"
    }
   ],
   "source": [
    "# aveage pos docs number per query\n",
    "l = []\n",
    "for record in data:\n",
    "    l.append(len(record['pos']))\n",
    "np.sum(l) / len(l)"
   ]
  },
  {
   "cell_type": "code",
   "execution_count": 37,
   "metadata": {},
   "outputs": [
    {
     "data": {
      "text/plain": [
       "64.9484882418813"
      ]
     },
     "execution_count": 37,
     "metadata": {},
     "output_type": "execute_result"
    }
   ],
   "source": [
    "# aveage neg docs number per query\n",
    "l = []\n",
    "for record in data:\n",
    "    l.append(len(record['neg']))\n",
    "np.sum(l) / len(l)"
   ]
  },
  {
   "cell_type": "code",
   "execution_count": 38,
   "metadata": {},
   "outputs": [
    {
     "data": {
      "text/plain": [
       "347994"
      ]
     },
     "execution_count": 38,
     "metadata": {},
     "output_type": "execute_result"
    }
   ],
   "source": [
    "np.sum(l)"
   ]
  },
  {
   "cell_type": "code",
   "execution_count": 29,
   "metadata": {},
   "outputs": [
    {
     "data": {
      "text/plain": [
       "{'query': 'Bainbridge Island residents seek to lower energy use',\n",
       " 'pos': [\". Exactly when the project on the Lightcather's roof would be a go depends next on lease agreements. Those agreements must be signed by Community Energy Solutions, a Bainbridge Island nonprofit selected by the city after a request for proposals, and the entities involved with the Lightcatcher. Those other groups are the city of Bellingham, Bellingham-Whatcom Public Facilities District and the Whatcom Museum Foundation. The solar project would be a 40-kilowatt system capable of generating an average of 44,000 kilowatt hours a year, according to Joe Deets, who is on the board of Community Energy Solutions. \",\n",
       "  \"RePower Bainbridge, which is sponsored in part by the City of Bainbridge Island, U.S. Department of Energy and funded by the American Recovery and Reinvestment Act, took a one-stop-shop approach to make it easier for homeowners to achieve their energy efficiency goals, reduce energy costs and experience greater comfort in their homes. To do this RePower Bainbridge offers in-home energy assessments for homeowners to create a baseline of their current energy use and costs, cash-back incentives for qualifying improvements, access to Kitsap Credit Union's Energy Efficiency Loan Program and connects homeowners to a local, skilled workforce of contractors through the RePower Trade Ally Network\",\n",
       "  '> \"Our success on Bainbridge is in large part the result of our community\\'s engagement from the beginning,\" said Hilary Franz, RePower Bainbridge representative and former City Council Member.Â \"Our energy solutions originated from a sense of urgency -- an insistence by the community to look at our energy use differently. We came together to understand our energy challenges, to ask \\'what\\'s possible?\\', and to develop a plan for action. Because our community was empowered to design, develop, and implement, we are committed to its success.Â Our program serves as a model for other communities that by working together, we can all be the solution.\" ',\n",
       "  'The City of Bainbridge Island came together with Conservation Services Group, Puget Sound Energy, Kitsap Credit Union and other community groups to implement RePower Bainbridge, an energy efficiency initiative which helps residents save energy, reduce costs and increase the comfort of their homes. ',\n",
       "  'is a community-wide program dedicated to helping Bainbridge Islanders save energy, reduce costs, make their home more comfortable and create a more sustainable Island. RePower Bainbridge provides in-home energy assessments, energy-efficiency financing and incentives, and a local, skilled workforce to make achieving these goals easier and more affordable. The City of Bainbridge Island is one of 20 communities in the United States to receive a BetterBuildings award from the U.S. Department of Energy and funded by the American Recovery and Reinvestment Act, and implemented by the City of Bainbridge Island, Positive Energy and Kitsap Credit Union. ',\n",
       "  'The companies, organizations and communities and their inspiring stories of energy efficiency are featured in newly released videos produced by Climate Solutions, a Northwest-based clean energy economy nonprofit, who is spearheading the Solutions Stories project. NEEA is a founding sponsor. The Solutions Stories Project captures and communicates clean energy economy success stories in the Northwest, including progress on clean energy and energy efficiency. \"',\n",
       "  'These stories demonstrate the reality that energy efficiency and building the economy go hand in hand,\" said Gregg Small, executive director for Climate Solutions. \"We are seeing businesses, individuals and communities doing what\\'s needed to build the clean-energy economy, with real solutions on the ground every day.\"Â Â The companies, organizations and communities and their inspiring stories of energy efficiency are featured in newly released videos produced by Climate Solutions, a Northwest-based clean energy economy nonprofit, who is spearheading the Solutions Stories project. NEEA is a founding sponsor. The Solutions Stories Project captures and communicates clean energy economy success stories in the Northwest, including progress on clean energy and energy efficiency. \"',\n",
       "  'Bainbridge Island, Wash. residentsâ\\x80\\x94when faced with the construction of a new substationâ\\x80\\x94came together to increase energy efficiency and reduce energy use as a community. ',\n",
       "  'As a result, Bainbridge Island residents came together and significantly lowered their energy use, thereby not needing the new substation, becoming a model for community energy efficiency efforts. Similar initiatives are being adopted nationwide. \"'],\n",
       " 'neg': [],\n",
       " 'intent': 'Discuss the RePower Bainbridge organization for energy-efficient home improvements, and its industry partners. ',\n",
       " 'source': 'ddt_2015'}"
      ]
     },
     "execution_count": 29,
     "metadata": {},
     "output_type": "execute_result"
    }
   ],
   "source": [
    "data[3]"
   ]
  },
  {
   "cell_type": "code",
   "execution_count": 23,
   "metadata": {},
   "outputs": [
    {
     "data": {
      "text/plain": [
       "910.3652482269504"
      ]
     },
     "execution_count": 23,
     "metadata": {},
     "output_type": "execute_result"
    }
   ],
   "source": [
    "# average token numbers of all neg for one query\n",
    "l = []\n",
    "for record in data:\n",
    "    n = 0\n",
    "    if len(record['neg']) == 0:\n",
    "        n = 0\n",
    "    elif len(record['neg']) == 1:\n",
    "        n = len(tokenizer.encode(record['neg'][0]))\n",
    "    else:\n",
    "        for p in record['neg']:\n",
    "            n += len(tokenizer.encode(p))\n",
    "    l.append(n)\n",
    "\n",
    "import numpy as np\n",
    "# sum l and get the average\n",
    "np.sum(l) / len(l)"
   ]
  },
  {
   "cell_type": "code",
   "execution_count": 19,
   "metadata": {},
   "outputs": [
    {
     "data": {
      "text/plain": [
       "51.303844718178425"
      ]
     },
     "execution_count": 19,
     "metadata": {},
     "output_type": "execute_result"
    }
   ],
   "source": [
    "l = []\n",
    "for record in data:\n",
    "    q = record['intent']\n",
    "    n = len(tokenizer.encode(q))\n",
    "    l.append(n)\n",
    "\n",
    "import numpy as np\n",
    "# sum l and get the average\n",
    "np.sum(l) / len(l)"
   ]
  },
  {
   "cell_type": "code",
   "execution_count": 18,
   "metadata": {},
   "outputs": [
    {
     "data": {
      "text/plain": [
       "9.034341172079134"
      ]
     },
     "execution_count": 18,
     "metadata": {},
     "output_type": "execute_result"
    }
   ],
   "source": [
    "l = []\n",
    "for record in data:\n",
    "    q = record['query']\n",
    "    n = len(tokenizer.encode(q))\n",
    "    l.append(n)\n",
    "\n",
    "import numpy as np\n",
    "# sum l and get the average\n",
    "np.sum(l) / len(l)"
   ]
  },
  {
   "cell_type": "code",
   "execution_count": 14,
   "metadata": {},
   "outputs": [
    {
     "data": {
      "text/plain": [
       "5358"
      ]
     },
     "execution_count": 14,
     "metadata": {},
     "output_type": "execute_result"
    }
   ],
   "source": [
    "l[0]\n",
    "len(l)"
   ]
  },
  {
   "cell_type": "code",
   "execution_count": 16,
   "metadata": {},
   "outputs": [
    {
     "data": {
      "text/plain": [
       "[109, 101, 156, 140, 107, 96, 62, 197, 124, 74]"
      ]
     },
     "execution_count": 16,
     "metadata": {},
     "output_type": "execute_result"
    }
   ],
   "source": [
    "l[:10]"
   ]
  },
  {
   "cell_type": "code",
   "execution_count": 11,
   "metadata": {},
   "outputs": [
    {
     "data": {
      "text/plain": [
       "13"
      ]
     },
     "execution_count": 11,
     "metadata": {},
     "output_type": "execute_result"
    }
   ],
   "source": [
    "query = data[0]['query']\n",
    "n = len(tokenizer.encode(query))\n",
    "n"
   ]
  },
  {
   "cell_type": "code",
   "execution_count": 12,
   "metadata": {},
   "outputs": [
    {
     "data": {
      "text/plain": [
       "'Columbia-Snake salmon dam controversery'"
      ]
     },
     "execution_count": 12,
     "metadata": {},
     "output_type": "execute_result"
    }
   ],
   "source": [
    "data[0]['query']"
   ]
  },
  {
   "cell_type": "markdown",
   "metadata": {},
   "source": [
    "# Prepare data for SEGSEC"
   ]
  },
  {
   "cell_type": "code",
   "execution_count": 43,
   "metadata": {},
   "outputs": [],
   "source": [
    "input_path = '/home/wangym/data1/dataset/q2id/Q2ID_data/valid_data_original.jsonl'\n",
    "output_path = '/home/wangym/data1/dataset/q2id/Q2ID_data/valid_segenc.jsonl'\n",
    "import json\n",
    "\n",
    "# for each record in the input file, change the format, and write to the output file\n",
    "with open(input_path, 'r') as f:\n",
    "    with open(output_path, 'w') as g:\n",
    "        for line in f:\n",
    "            record = json.loads(line)\n",
    "            query = record['query']\n",
    "            pos = record['pos']\n",
    "            # concatenate all pos docs to source\n",
    "            source = ' '.join(pos)\n",
    "            target = record['intent']\n",
    "            new_record = {'source': source, 'query': query, 'target': target}\n",
    "            g.write(json.dumps(new_record) + '\\n')"
   ]
  },
  {
   "cell_type": "code",
   "execution_count": null,
   "metadata": {},
   "outputs": [],
   "source": []
  }
 ],
 "metadata": {
  "kernelspec": {
   "display_name": "Python 3",
   "language": "python",
   "name": "python3"
  },
  "language_info": {
   "codemirror_mode": {
    "name": "ipython",
    "version": 3
   },
   "file_extension": ".py",
   "mimetype": "text/x-python",
   "name": "python",
   "nbconvert_exporter": "python",
   "pygments_lexer": "ipython3",
   "version": "3.9.19"
  }
 },
 "nbformat": 4,
 "nbformat_minor": 2
}
